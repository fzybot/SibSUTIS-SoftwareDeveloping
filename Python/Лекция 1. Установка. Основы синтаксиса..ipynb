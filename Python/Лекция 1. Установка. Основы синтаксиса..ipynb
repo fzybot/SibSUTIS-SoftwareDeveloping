{
 "cells": [
  {
   "cell_type": "markdown",
   "id": "c2eb26c7",
   "metadata": {},
   "source": [
    "# Основы программирования на языке Python\n",
    "*Ruslan V. Akhpashev - 2021, e-mail: ruslan.akhpashev@gmail.com, github.com: https://github.com/fzybot/softDev*"
   ]
  },
  {
   "cell_type": "markdown",
   "id": "608fbbf3",
   "metadata": {},
   "source": [
    "## Установка основных сред программирования"
   ]
  },
  {
   "cell_type": "markdown",
   "id": "772378a2",
   "metadata": {},
   "source": [
    "Ссылки на ресурсы установки:\n",
    "* **Anaconda 3** (также устанавливаются пакеты Jupyter и Spider) - https://www.anaconda.com/products/distribution\n",
    "* **Pycharm** (удобная среда разработки) - https://www.jetbrains.com/pycharm/\n",
    "* **Python 3 Idle** - https://www.python.org/downloads/\n",
    "\n",
    "Code Style:\n",
    "* PEP8 Rus - https://pythonworld.ru/osnovy/pep-8-rukovodstvo-po-napisaniyu-koda-na-python.html\n",
    "* PEP8 Eng - https://peps.python.org/pep-0008/"
   ]
  },
  {
   "cell_type": "markdown",
   "id": "9251c64c",
   "metadata": {},
   "source": [
    "# Основы"
   ]
  },
  {
   "cell_type": "markdown",
   "id": "0d731e69",
   "metadata": {},
   "source": [
    "### Python Дзен (The Zen of Python)\n",
    "Философия программирования на языке Python от Тима Петерса.\n",
    "\n",
    "Достаточно просто ввести 1 строку кода: **import this**"
   ]
  },
  {
   "cell_type": "code",
   "execution_count": 1,
   "id": "dfd98da9",
   "metadata": {},
   "outputs": [
    {
     "name": "stdout",
     "output_type": "stream",
     "text": [
      "The Zen of Python, by Tim Peters\n",
      "\n",
      "Beautiful is better than ugly.\n",
      "Explicit is better than implicit.\n",
      "Simple is better than complex.\n",
      "Complex is better than complicated.\n",
      "Flat is better than nested.\n",
      "Sparse is better than dense.\n",
      "Readability counts.\n",
      "Special cases aren't special enough to break the rules.\n",
      "Although practicality beats purity.\n",
      "Errors should never pass silently.\n",
      "Unless explicitly silenced.\n",
      "In the face of ambiguity, refuse the temptation to guess.\n",
      "There should be one-- and preferably only one --obvious way to do it.\n",
      "Although that way may not be obvious at first unless you're Dutch.\n",
      "Now is better than never.\n",
      "Although never is often better than *right* now.\n",
      "If the implementation is hard to explain, it's a bad idea.\n",
      "If the implementation is easy to explain, it may be a good idea.\n",
      "Namespaces are one honking great idea -- let's do more of those!\n"
     ]
    }
   ],
   "source": [
    "import this"
   ]
  },
  {
   "cell_type": "markdown",
   "id": "69ce4506",
   "metadata": {},
   "source": [
    "## Арифметические операции"
   ]
  },
  {
   "cell_type": "code",
   "execution_count": 4,
   "id": "f39e09b4",
   "metadata": {},
   "outputs": [
    {
     "name": "stdout",
     "output_type": "stream",
     "text": [
      "5.0\n"
     ]
    }
   ],
   "source": [
    "1 + 2\n",
    "print(10 / 2)"
   ]
  },
  {
   "cell_type": "code",
   "execution_count": 10,
   "id": "a685e72d",
   "metadata": {},
   "outputs": [
    {
     "name": "stdout",
     "output_type": "stream",
     "text": [
      "10\n",
      "1\n",
      "25\n",
      "1.6666666666666667\n",
      "1\n",
      "125\n",
      "4\n"
     ]
    }
   ],
   "source": [
    "print(5 + 5) # сложение\n",
    "print(5 - 4) # вычитание\n",
    "print(5 * 5) # умножение\n",
    "print(5 / 3) # деление\n",
    "print(5 // 5) # целочисленное деление\n",
    "print(5 ** 3) # возведение в степень\n",
    "print(34 % 5) # остаток от деления"
   ]
  },
  {
   "cell_type": "markdown",
   "id": "edc07e6d",
   "metadata": {},
   "source": [
    "**Вопрос на сообразительность.** Объяснить что происходит при операции сложения ниже:"
   ]
  },
  {
   "cell_type": "code",
   "execution_count": 11,
   "id": "be1dd67c",
   "metadata": {},
   "outputs": [
    {
     "data": {
      "text/plain": [
       "0.30000000000000004"
      ]
     },
     "execution_count": 11,
     "metadata": {},
     "output_type": "execute_result"
    }
   ],
   "source": [
    "0.1 + 0.2"
   ]
  },
  {
   "cell_type": "code",
   "execution_count": null,
   "id": "dae3020b",
   "metadata": {},
   "outputs": [],
   "source": []
  },
  {
   "cell_type": "code",
   "execution_count": null,
   "id": "337d4165",
   "metadata": {},
   "outputs": [],
   "source": []
  },
  {
   "cell_type": "code",
   "execution_count": null,
   "id": "723ea25c",
   "metadata": {},
   "outputs": [],
   "source": []
  },
  {
   "cell_type": "code",
   "execution_count": null,
   "id": "11bf9d6f",
   "metadata": {},
   "outputs": [],
   "source": []
  },
  {
   "cell_type": "code",
   "execution_count": null,
   "id": "8e2ac759",
   "metadata": {},
   "outputs": [],
   "source": []
  },
  {
   "cell_type": "code",
   "execution_count": null,
   "id": "84bd6f4c",
   "metadata": {},
   "outputs": [],
   "source": []
  },
  {
   "cell_type": "code",
   "execution_count": null,
   "id": "05a831c5",
   "metadata": {},
   "outputs": [],
   "source": []
  },
  {
   "cell_type": "code",
   "execution_count": null,
   "id": "1705b3a7",
   "metadata": {},
   "outputs": [],
   "source": []
  }
 ],
 "metadata": {
  "kernelspec": {
   "display_name": "Python 3",
   "language": "python",
   "name": "python3"
  },
  "language_info": {
   "codemirror_mode": {
    "name": "ipython",
    "version": 3
   },
   "file_extension": ".py",
   "mimetype": "text/x-python",
   "name": "python",
   "nbconvert_exporter": "python",
   "pygments_lexer": "ipython3",
   "version": "3.8.8"
  }
 },
 "nbformat": 4,
 "nbformat_minor": 5
}
