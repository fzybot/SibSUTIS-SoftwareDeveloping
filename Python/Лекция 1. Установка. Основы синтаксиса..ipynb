{
 "cells": [
  {
   "cell_type": "markdown",
   "id": "c2eb26c7",
   "metadata": {},
   "source": [
    "# Основы программирования на языке Python\n",
    "*Ruslan V. Akhpashev - 2021, e-mail: ruslan.akhpashev@gmail.com, github.com: https://github.com/fzybot/softDev*"
   ]
  },
  {
   "cell_type": "markdown",
   "id": "608fbbf3",
   "metadata": {},
   "source": [
    "## Установка основных сред программирования"
   ]
  },
  {
   "cell_type": "markdown",
   "id": "772378a2",
   "metadata": {},
   "source": [
    "Ссылки на ресурсы установки:\n",
    "* **Anaconda 3** (также устанавливаются пакеты Jupyter и Spider) - https://www.anaconda.com/products/distribution\n",
    "* **Pycharm** (удобная среда разработки) - https://www.jetbrains.com/pycharm/\n",
    "* **Python 3 Idle** - https://www.python.org/downloads/\n",
    "\n",
    "Code Style:\n",
    "* PEP8 Rus - https://pythonworld.ru/osnovy/pep-8-rukovodstvo-po-napisaniyu-koda-na-python.html\n",
    "* PEP8 Eng - https://peps.python.org/pep-0008/"
   ]
  },
  {
   "cell_type": "markdown",
   "id": "9251c64c",
   "metadata": {},
   "source": [
    "# Основы"
   ]
  },
  {
   "cell_type": "markdown",
   "id": "0d731e69",
   "metadata": {},
   "source": [
    "### Python Дзен (The Zen of Python)\n",
    "Философия программирования на языке Python от Тима Петерса.\n",
    "\n",
    "Достаточно просто ввести 1 строку кода: **import this**"
   ]
  },
  {
   "cell_type": "code",
   "execution_count": 1,
   "id": "dfd98da9",
   "metadata": {},
   "outputs": [
    {
     "name": "stdout",
     "output_type": "stream",
     "text": [
      "The Zen of Python, by Tim Peters\n",
      "\n",
      "Beautiful is better than ugly.\n",
      "Explicit is better than implicit.\n",
      "Simple is better than complex.\n",
      "Complex is better than complicated.\n",
      "Flat is better than nested.\n",
      "Sparse is better than dense.\n",
      "Readability counts.\n",
      "Special cases aren't special enough to break the rules.\n",
      "Although practicality beats purity.\n",
      "Errors should never pass silently.\n",
      "Unless explicitly silenced.\n",
      "In the face of ambiguity, refuse the temptation to guess.\n",
      "There should be one-- and preferably only one --obvious way to do it.\n",
      "Although that way may not be obvious at first unless you're Dutch.\n",
      "Now is better than never.\n",
      "Although never is often better than *right* now.\n",
      "If the implementation is hard to explain, it's a bad idea.\n",
      "If the implementation is easy to explain, it may be a good idea.\n",
      "Namespaces are one honking great idea -- let's do more of those!\n"
     ]
    }
   ],
   "source": [
    "import this"
   ]
  },
  {
   "cell_type": "markdown",
   "id": "69ce4506",
   "metadata": {},
   "source": [
    "### Арифметические операции"
   ]
  },
  {
   "cell_type": "code",
   "execution_count": 17,
   "id": "f39e09b4",
   "metadata": {},
   "outputs": [
    {
     "name": "stdout",
     "output_type": "stream",
     "text": [
      "12\n"
     ]
    }
   ],
   "source": [
    "var_1 = 10 + 2\n",
    "print(var_1)"
   ]
  },
  {
   "cell_type": "code",
   "execution_count": 20,
   "id": "a685e72d",
   "metadata": {},
   "outputs": [
    {
     "name": "stdout",
     "output_type": "stream",
     "text": [
      "10\n",
      "1\n",
      "25\n",
      "1.6666666666666667\n",
      "3\n",
      "125\n",
      "4\n"
     ]
    }
   ],
   "source": [
    "print(5 + 5) # сложение\n",
    "print(5 - 4) # вычитание\n",
    "print(5 * 5) # умножение\n",
    "print(5 / 3) # деление\n",
    "print(16 // 5) # целочисленное деление\n",
    "print(5 ** 3) # возведение в степень\n",
    "print(34 % 5) # остаток от деления"
   ]
  },
  {
   "cell_type": "markdown",
   "id": "5685439e",
   "metadata": {},
   "source": [
    "**Вопрос на сообразительность.** Объяснить что происходит при операции сложения ниже:"
   ]
  },
  {
   "cell_type": "code",
   "execution_count": 23,
   "id": "be1dd67c",
   "metadata": {},
   "outputs": [
    {
     "name": "stdout",
     "output_type": "stream",
     "text": [
      "0.30000000000000004\n",
      "False\n"
     ]
    }
   ],
   "source": [
    "print(0.1 + 0.2)\n"
   ]
  },
  {
   "cell_type": "markdown",
   "id": "18e105c6",
   "metadata": {},
   "source": [
    "### Инструкция if"
   ]
  },
  {
   "cell_type": "code",
   "execution_count": 24,
   "id": "fe050c91",
   "metadata": {},
   "outputs": [
    {
     "name": "stdout",
     "output_type": "stream",
     "text": [
      "False\n"
     ]
    }
   ],
   "source": [
    "if (0.1 + 0.2 == 0.3):\n",
    "    print(\"True\")\n",
    "else:\n",
    "    print(\"False\")"
   ]
  },
  {
   "cell_type": "code",
   "execution_count": 1,
   "id": "709cf6cd",
   "metadata": {},
   "outputs": [
    {
     "name": "stdout",
     "output_type": "stream",
     "text": [
      "elif 2 Yes\n"
     ]
    }
   ],
   "source": [
    "val_1 = 6\n",
    "val_2 = 10\n",
    "\n",
    "# if (val_1 == 5 and val_2 == 10):\n",
    "#     print(\"Yes\")\n",
    "# else:\n",
    "#     print(\"False\")\n",
    "    \n",
    "# if (val_1 != 5 or val_2 == 15):\n",
    "#     print(\"Yes\")\n",
    "# else:\n",
    "#     print(\"False\")\n",
    "\n",
    "if (val_1 <= 5):\n",
    "    print(\"if Yes\")\n",
    "elif (val_1 == 7):\n",
    "    print(\"elif Yes\")\n",
    "elif (val_1 == 6):\n",
    "    print(\"elif 2 Yes\")\n",
    "else:\n",
    "    print(\"False\")"
   ]
  },
  {
   "cell_type": "markdown",
   "id": "15bdf0ca",
   "metadata": {},
   "source": [
    "### Циклы"
   ]
  },
  {
   "cell_type": "code",
   "execution_count": 62,
   "id": "144e53df",
   "metadata": {},
   "outputs": [
    {
     "name": "stdout",
     "output_type": "stream",
     "text": [
      "[1, 4, 5, 23, 1, 6, 7]\n",
      "array_1 len =  7\n",
      "[0, 1, 2, 3, 4, 5, 6, 7, 8, 9]\n",
      "[1, 4, 5, 23, 1, 6, 7, 0, 1, 2, 3, 4, 5, 6, 7, 8, 9]\n"
     ]
    }
   ],
   "source": [
    "# for i in range(0, 10, 2): # for(int i = 0; i < 10; i = i + 2){\n",
    "#     print(\"i = \", i)\n",
    "\n",
    "\n",
    "array_1 = [1, 4, 5, 23, 1, 6, 7] # создание массива чисел\n",
    "print(array_1)\n",
    "print(\"array_1 len = \", len(array_1))\n",
    "\n",
    "# for i in range(len(array_1)):\n",
    "#     print(array_1[i])\n",
    "\n",
    "# for i in array_1:\n",
    "#     print(\"array_1 value = \", i)\n",
    "\n",
    "array = [] # создание пустого списка\n",
    "\n",
    "for i in range(10):\n",
    "    array.append(i)\n",
    "print(array)\n",
    "\n",
    "array_1.extend(array) # добавление в конец массива значений другого массива\n",
    "print(array_1)"
   ]
  },
  {
   "cell_type": "code",
   "execution_count": 63,
   "id": "89064900",
   "metadata": {},
   "outputs": [],
   "source": [
    "import math\n",
    "\n",
    "# signal = []\n",
    "# for i in range(40000):\n",
    "#     signal.append(1 * math.sin(2 * 3.14 * 2200 * i))\n",
    "# print(len(signal))\n",
    "# sd.play(signal, 40000)"
   ]
  }
 ],
 "metadata": {
  "kernelspec": {
   "display_name": "Python 3",
   "language": "python",
   "name": "python3"
  },
  "language_info": {
   "codemirror_mode": {
    "name": "ipython",
    "version": 3
   },
   "file_extension": ".py",
   "mimetype": "text/x-python",
   "name": "python",
   "nbconvert_exporter": "python",
   "pygments_lexer": "ipython3",
   "version": "3.8.8"
  }
 },
 "nbformat": 4,
 "nbformat_minor": 5
}
