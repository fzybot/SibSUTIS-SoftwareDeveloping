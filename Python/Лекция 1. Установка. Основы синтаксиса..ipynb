{
 "cells": [
  {
   "cell_type": "markdown",
   "id": "c2eb26c7",
   "metadata": {},
   "source": [
    "# Основы программирования на языке Python\n",
    "*Ruslan V. Akhpashev - 2021, e-mail: ruslan.akhpashev@gmail.com, github.com: https://github.com/fzybot/softDev*"
   ]
  },
  {
   "cell_type": "markdown",
   "id": "608fbbf3",
   "metadata": {},
   "source": [
    "## Установка основных сред программирования"
   ]
  },
  {
   "cell_type": "markdown",
   "id": "772378a2",
   "metadata": {},
   "source": [
    "Ссылки на ресурсы установки:\n",
    "* **Anaconda 3** (также устанавливаются пакеты Jupyter и Spider) - https://www.anaconda.com/products/distribution\n",
    "* **Pycharm** (удобная среда разработки) - https://www.jetbrains.com/pycharm/\n",
    "* **Python 3 Idle** - https://www.python.org/downloads/"
   ]
  },
  {
   "cell_type": "markdown",
   "id": "9251c64c",
   "metadata": {},
   "source": [
    "# Основы"
   ]
  },
  {
   "cell_type": "markdown",
   "id": "0d731e69",
   "metadata": {},
   "source": [
    "### Python Дзен (The Zen of Python)\n",
    "Философия программирования на языке Python от Тима Петерса.\n",
    "\n",
    "Достаточно просто ввести 1 строку кода: **import this**"
   ]
  },
  {
   "cell_type": "code",
   "execution_count": 1,
   "id": "dfd98da9",
   "metadata": {},
   "outputs": [
    {
     "name": "stdout",
     "output_type": "stream",
     "text": [
      "The Zen of Python, by Tim Peters\n",
      "\n",
      "Beautiful is better than ugly.\n",
      "Explicit is better than implicit.\n",
      "Simple is better than complex.\n",
      "Complex is better than complicated.\n",
      "Flat is better than nested.\n",
      "Sparse is better than dense.\n",
      "Readability counts.\n",
      "Special cases aren't special enough to break the rules.\n",
      "Although practicality beats purity.\n",
      "Errors should never pass silently.\n",
      "Unless explicitly silenced.\n",
      "In the face of ambiguity, refuse the temptation to guess.\n",
      "There should be one-- and preferably only one --obvious way to do it.\n",
      "Although that way may not be obvious at first unless you're Dutch.\n",
      "Now is better than never.\n",
      "Although never is often better than *right* now.\n",
      "If the implementation is hard to explain, it's a bad idea.\n",
      "If the implementation is easy to explain, it may be a good idea.\n",
      "Namespaces are one honking great idea -- let's do more of those!\n"
     ]
    }
   ],
   "source": [
    "import this"
   ]
  },
  {
   "cell_type": "markdown",
   "id": "69ce4506",
   "metadata": {},
   "source": [
    "## Арифметические операции"
   ]
  },
  {
   "cell_type": "code",
   "execution_count": 7,
   "id": "f39e09b4",
   "metadata": {},
   "outputs": [
    {
     "data": {
      "text/plain": [
       "3"
      ]
     },
     "execution_count": 7,
     "metadata": {},
     "output_type": "execute_result"
    }
   ],
   "source": [
    "1 + 2"
   ]
  },
  {
   "cell_type": "code",
   "execution_count": null,
   "id": "a685e72d",
   "metadata": {},
   "outputs": [],
   "source": []
  },
  {
   "cell_type": "code",
   "execution_count": null,
   "id": "be1dd67c",
   "metadata": {},
   "outputs": [],
   "source": []
  },
  {
   "cell_type": "code",
   "execution_count": null,
   "id": "dae3020b",
   "metadata": {},
   "outputs": [],
   "source": []
  },
  {
   "cell_type": "code",
   "execution_count": null,
   "id": "1705b3a7",
   "metadata": {},
   "outputs": [],
   "source": []
  }
 ],
 "metadata": {
  "kernelspec": {
   "display_name": "Python 3",
   "language": "python",
   "name": "python3"
  },
  "language_info": {
   "codemirror_mode": {
    "name": "ipython",
    "version": 3
   },
   "file_extension": ".py",
   "mimetype": "text/x-python",
   "name": "python",
   "nbconvert_exporter": "python",
   "pygments_lexer": "ipython3",
   "version": "3.8.8"
  }
 },
 "nbformat": 4,
 "nbformat_minor": 5
}
