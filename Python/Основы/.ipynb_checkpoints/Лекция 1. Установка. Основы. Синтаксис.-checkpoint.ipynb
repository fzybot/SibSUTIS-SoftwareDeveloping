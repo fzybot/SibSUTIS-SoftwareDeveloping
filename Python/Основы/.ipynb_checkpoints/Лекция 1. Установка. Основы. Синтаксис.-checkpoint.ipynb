{
 "cells": [
  {
   "cell_type": "markdown",
   "id": "0f5aee5a",
   "metadata": {},
   "source": [
    "# Основы программирования на языке Python\n",
    "*Ruslan V. Akhpashev - 2021, e-mail: ruslan.akhpashev@gmail.com, github.com: https://github.com/fzybot/softDev*"
   ]
  },
  {
   "cell_type": "markdown",
   "id": "7b89d1e1",
   "metadata": {},
   "source": [
    "## Установка основных сред программирования"
   ]
  },
  {
   "cell_type": "markdown",
   "id": "ba2f4f27",
   "metadata": {},
   "source": [
    "Ссылки на ресурсы установки:\n",
    "* **Anaconda 3** (также устанавливаются пакеты Jupyter и Spider) - https://www.anaconda.com/products/distribution\n",
    "* **Pycharm** (удобная среда разработки) - https://www.jetbrains.com/pycharm/\n",
    "* **Python 3 Idle** - https://www.python.org/downloads/"
   ]
  },
  {
   "cell_type": "code",
   "execution_count": null,
   "id": "14f40bf7",
   "metadata": {},
   "outputs": [],
   "source": []
  },
  {
   "cell_type": "code",
   "execution_count": null,
   "id": "844fd32a",
   "metadata": {},
   "outputs": [],
   "source": []
  },
  {
   "cell_type": "code",
   "execution_count": null,
   "id": "9f30819e",
   "metadata": {},
   "outputs": [],
   "source": []
  },
  {
   "cell_type": "code",
   "execution_count": null,
   "id": "b1173b93",
   "metadata": {},
   "outputs": [],
   "source": []
  }
 ],
 "metadata": {
  "kernelspec": {
   "display_name": "Python 3",
   "language": "python",
   "name": "python3"
  },
  "language_info": {
   "codemirror_mode": {
    "name": "ipython",
    "version": 3
   },
   "file_extension": ".py",
   "mimetype": "text/x-python",
   "name": "python",
   "nbconvert_exporter": "python",
   "pygments_lexer": "ipython3",
   "version": "3.8.8"
  }
 },
 "nbformat": 4,
 "nbformat_minor": 5
}
